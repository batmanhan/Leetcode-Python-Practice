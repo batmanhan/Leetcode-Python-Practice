{
 "cells": [
  {
   "cell_type": "code",
   "execution_count": 16,
   "metadata": {},
   "outputs": [],
   "source": [
    "import os\n",
    "import gc\n",
    "import warnings\n",
    "import numpy as np # linear algebra\n",
    "import pandas as pd # data processing, CSV file I/O (e.g. pd.read_csv)\n"
   ]
  },
  {
   "cell_type": "code",
   "execution_count": 2,
   "metadata": {},
   "outputs": [
    {
     "name": "stdout",
     "output_type": "stream",
     "text": [
      "3.7.4 (default, Aug  9 2019, 18:34:13) [MSC v.1915 64 bit (AMD64)]\n"
     ]
    }
   ],
   "source": [
    "import sys\n",
    "print(sys.version)"
   ]
  },
  {
   "cell_type": "code",
   "execution_count": 30,
   "metadata": {},
   "outputs": [
    {
     "data": {
      "text/plain": [
       "'hello world'"
      ]
     },
     "execution_count": 30,
     "metadata": {},
     "output_type": "execute_result"
    }
   ],
   "source": [
    "class MyClass:\n",
    "    \"\"\"A simple example class\"\"\"\n",
    "    i = 12345\n",
    "\n",
    "    def f(self):\n",
    "        return 'hello world'\n",
    "    \n",
    "# MyClass.f() ## Has to be initiated\n",
    "m_class = MyClass()\n",
    "m_class.f()"
   ]
  },
  {
   "cell_type": "code",
   "execution_count": 21,
   "metadata": {},
   "outputs": [
    {
     "data": {
      "text/plain": [
       "''"
      ]
     },
     "execution_count": 21,
     "metadata": {},
     "output_type": "execute_result"
    }
   ],
   "source": [
    "def longestCommonPrefix(strs) -> str:\n",
    "    '''Stay Home Challenge day 1, LeetCode 14'''\n",
    "    if not strs:\n",
    "        return \"\"\n",
    "    print(len(strs[0]))\n",
    "    for i in range(len(strs[0])):\n",
    "        for string in strs[1:]:\n",
    "            print(string)\n",
    "            if i >= len(string) or string[i] != strs[0][i]:\n",
    "                return strs[0][:i]\n",
    "\n",
    "    return strs[0]\n",
    "\n",
    "strs = [\"flower\",\"flow\",\"flight\"]\n",
    "strs0 = []\n",
    "longestCommonPrefix(strs = strs0)"
   ]
  },
  {
   "cell_type": "code",
   "execution_count": null,
   "metadata": {},
   "outputs": [],
   "source": [
    "class Solution:\n",
    "    def isHappy(self, n: int) -> bool:\n",
    "        '''Stay Home Challenge day 2, LeetCode 202'''\n",
    "        sum = str(n)    # to check if the sum is 1(happy), but we need str to get the digits \n",
    "        allsums = set() # to check if the sum repeated, if yes, then it should be an infinite loop\n",
    "        while (sum != '1'):\n",
    "            n_sum = 0   # for getting the new_sum for each sum\n",
    "            for i in sum:\n",
    "                n_sum += int(i)**2\n",
    "            sum = str(n_sum)\n",
    "            print('sum =', sum )            \n",
    "            \n",
    "            if n_sum in allsums:\n",
    "                return False\n",
    "                break\n",
    "            \n",
    "            allsums.add(n_sum)\n",
    "        return True"
   ]
  },
  {
   "cell_type": "code",
   "execution_count": null,
   "metadata": {},
   "outputs": [],
   "source": [
    "# We use the fact that the max sum at any index will\n",
    "# 1)either be the value at that index itself\n",
    "# 2)or it would be the extension of the best subarray till the prev index added to the current idex's value\n",
    "\n",
    "class Solution(object):\n",
    "    def maxSubArray(self, nums):\n",
    "        '''Stay Home Challenge day 3, LeetCode 53'''\n",
    "        \"\"\"\n",
    "        :type nums: List[int]\n",
    "        :rtype: int\n",
    "        \"\"\"\n",
    "        maxcurr = nums[0]\n",
    "        maxglobal = nums[0]\n",
    "        for i in range(1,len(nums)):\n",
    "            maxcurr = max(nums[i], maxcurr + nums[i]) \n",
    "            maxglobal = max(maxcurr, maxglobal)\n",
    "            print(f\"maxcurr = {maxcurr}\")\n",
    "            print(f\"maxglobal = {maxglobal}\")\n",
    "            \n",
    "        return maxglobal"
   ]
  },
  {
   "cell_type": "code",
   "execution_count": null,
   "metadata": {},
   "outputs": [],
   "source": [
    "class Solution:\n",
    "    def moveZeroes(self, nums: List[int]) -> None:\n",
    "        \"\"\"\n",
    "        Stay Home Challenge day 4\n",
    "        Do not return anything, modify nums in-place instead.\n",
    "        \"\"\"\n",
    "        back = 0 # how much to go backwards while we meet a zero\n",
    "        for i in range(len(nums)):\n",
    "            i = i - back\n",
    "            if nums[i] == 0:\n",
    "                del nums[i]\n",
    "                nums.append(0)\n",
    "                back += 1\n",
    "            \n",
    "            "
   ]
  },
  {
   "cell_type": "code",
   "execution_count": null,
   "metadata": {},
   "outputs": [],
   "source": [
    "class Solution:\n",
    "    def maxProfit(self, prices: List[int]) -> int:\n",
    "        '''Stay Home Challenge day 5'''\n",
    "        low_p  = []  # lowest prices to buy\n",
    "        high_p = []  # highest prices to sell\n",
    "        \n",
    "        for i in range(len(prices)):\n",
    "            if i == 0:\n",
    "                if len(prices) == 1:\n",
    "                    continue # cannot buy or sell, there is only 1 price, continue loop = end loop\n",
    "                elif prices[i] < prices[i+1]:\n",
    "                    low_p.append(prices[i])\n",
    "            \n",
    "            elif i+1 == len(prices):\n",
    "                if len(low_p) > len(high_p):\n",
    "                    high_p.append(prices[i])\n",
    "                \n",
    "            else:\n",
    "                print(prices[i-1], prices[i], prices[i+1])\n",
    "                if (prices[i] < prices[i+1]) & (prices[i] <= prices[i-1]) & (len(low_p) == len(high_p)):\n",
    "                    print(len(low_p) == len(high_p))\n",
    "                    low_p.append(prices[i])\n",
    "                elif (prices[i] > prices[i+1]) & (prices[i] >= prices[i-1]) & (len(low_p) > len(high_p)):\n",
    "                    high_p.append(prices[i])\n",
    "                else:\n",
    "                    print('continue')\n",
    "                    continue\n",
    "        print (\"I want to buy: \", low_p, \"I want to sell: \", high_p)\n",
    "        return sum(high_p) - sum(low_p)\n",
    "        "
   ]
  }
 ],
 "metadata": {
  "kernelspec": {
   "display_name": "Python 3",
   "language": "python",
   "name": "python3"
  },
  "language_info": {
   "codemirror_mode": {
    "name": "ipython",
    "version": 3
   },
   "file_extension": ".py",
   "mimetype": "text/x-python",
   "name": "python",
   "nbconvert_exporter": "python",
   "pygments_lexer": "ipython3",
   "version": "3.7.4"
  },
  "toc": {
   "base_numbering": 1,
   "nav_menu": {},
   "number_sections": true,
   "sideBar": true,
   "skip_h1_title": false,
   "title_cell": "Table of Contents",
   "title_sidebar": "Contents",
   "toc_cell": false,
   "toc_position": {
    "height": "calc(100% - 180px)",
    "left": "10px",
    "top": "150px",
    "width": "165px"
   },
   "toc_section_display": true,
   "toc_window_display": true
  }
 },
 "nbformat": 4,
 "nbformat_minor": 2
}
